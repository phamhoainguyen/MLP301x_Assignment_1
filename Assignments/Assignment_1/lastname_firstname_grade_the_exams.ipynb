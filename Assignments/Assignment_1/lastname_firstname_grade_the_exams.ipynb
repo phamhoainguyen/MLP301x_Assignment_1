{
 "cells": [
  {
   "cell_type": "markdown",
   "id": "552c1478",
   "metadata": {},
   "source": [
    "# Task 1: Load file\n",
    "1. Users input any file name\n",
    "2. Using try-except-finally to read the file\n",
    "\n",
    "    \n",
    "    \n",
    "try:\n",
    "    file = open(file_name, \"r\") as file:\n",
    "except IOError as ex:\n",
    "    print(\"Cannot open the file \", str(ex))\n",
    "else:\n",
    "    print(arg, 'has', len(f.readlines()), 'lines')\n",
    "    file.close()"
   ]
  },
  {
   "cell_type": "code",
   "execution_count": 55,
   "id": "a8827b3d",
   "metadata": {},
   "outputs": [
    {
     "name": "stdout",
     "output_type": "stream",
     "text": [
      "Input file name: class2.txt\n",
      "Successfully opened class2.txt\n"
     ]
    }
   ],
   "source": [
    "\n",
    "\n",
    "def read_data():\n",
    "    #init a distionary for student test, key is student's id, value is student's answers\n",
    "    #student_tests = {}\n",
    "    lines = []\n",
    "    #file_name = \"class1.txt\"    \n",
    "    while True:\n",
    "        try:\n",
    "            file_name = str(input(\"Input file name: \"))\n",
    "            with open(\"./Data Files/\" + file_name, \"r\") as file:\n",
    "                print(\"Successfully opened \" + file_name)\n",
    "                for line in file:\n",
    "                    lines.append(line)\n",
    "                    #student_id = (line.rstrip().split(\",\")[0]) # get student's id \n",
    "                    #student_answers = (line.rstrip().split(\",\")[1:]) # get student answers (excepts the first element)\n",
    "                    #student_tests[student_id] = student_answers\n",
    "                    #print(student_tests)\n",
    "            #return (student_tests, lines)\n",
    "            return file_name, lines\n",
    "        except IOError as ex:\n",
    "            print(\"File cannot be found. \", str(ex))\n",
    "            #return None\n",
    "file_name, lines = read_data()\n",
    "#student_tests, lines = read_data()\n",
    "\n",
    "    \n"
   ]
  },
  {
   "cell_type": "markdown",
   "id": "084db908",
   "metadata": {},
   "source": [
    "# Task 2: Kiểm tra tính hợp lệ của dữ liệu\n",
    "1. Báo cáo số dòng dữ liệu được lưu trữ trong tệp\n",
    "2. Phân tích từng dòng và đảm bảo rằng nó là \"hợp lệ\" khi:\n",
    "    - Đầy đủ 26 cột (có thể trống nhưng không thiếu hoặc không thừa)\n",
    "    - Cột đầu tiên là mã số sinh viên phải bắt đầu bằng chữ \"N\" và theo sau là 8 chữ số\n",
    "3. Nếu một dòng dữ liệu không hợp lệ, bạn nên báo cáo cho người dùng bằng cách in ra một thông báo lỗi. Bạn cũng nên đếm tổng số dòng dữ liệu hợp lệ trong tệp.\n"
   ]
  },
  {
   "cell_type": "code",
   "execution_count": 56,
   "id": "8cc8b7bc",
   "metadata": {},
   "outputs": [
    {
     "name": "stdout",
     "output_type": "stream",
     "text": [
      "** ANALYZING **\n",
      "Invalid line of data: does not contain exactly 26 values: \n",
      " N00000023,,A,D,D,C,B,D,A,C,C,,C,,B,A,C,B,D,A,C,A,A\n",
      "\n",
      "Invalid line of data: N# is invalid: \n",
      " N0000002,B,A,D,D,C,B,D,A,C,D,D,D,A,,A,C,D,,A,C,A,A,B,D,D\n",
      "\n",
      "Invalid line of data: N# is invalid: \n",
      " NA0000027,B,A,D,D,,B,,A,C,B,D,B,A,,A,C,B,D,A,,A,A,B,D,D\n",
      "\n",
      "Invalid line of data: does not contain exactly 26 values: \n",
      " N00000035,B,A,D,D,B,B,,A,C,,D,B,A,B,A,A,B,D,A,C,A,C,B,D,D,A,A\n",
      "\n",
      "** REPORT **\n",
      "Total valid lines of data:  21\n",
      "Total invalid lines of data:  4\n"
     ]
    }
   ],
   "source": [
    "print(\"** ANALYZING **\")\n",
    "def check_valid_line(line):\n",
    "    #check if the line has 26 values\n",
    "    students = line.split(\",\")\n",
    "    student_id = students[0] # get student's id\n",
    "    \n",
    "    no_of_columns = len(students)\n",
    "    \n",
    "    if no_of_columns != 26:\n",
    "        print(\"Invalid line of data: does not contain exactly 26 values: \\n\", line)\n",
    "        return False\n",
    "    #check the format of id value (we can use RegEx)\n",
    "    elif student_id[0] != \"N\" or len(student_id[1:]) != 8 or not(student_id[1:].isnumeric()):\n",
    "        print(\"Invalid line of data: N# is invalid: \\n\", line)\n",
    "        return False\n",
    "    else: \n",
    "        return True\n",
    "\n",
    "no_of_valid_lines = 0\n",
    "no_of_invalid_lines = 0\n",
    "valid_lines = []\n",
    "for line in lines:\n",
    "    is_valid = check_valid_line(line)\n",
    "    if is_valid:\n",
    "        no_of_valid_lines += 1\n",
    "        valid_lines.append(line)\n",
    "    else:\n",
    "        no_of_invalid_lines += 1\n",
    "    \n",
    "print(\"** REPORT **\")\n",
    "print(\"Total valid lines of data: \", no_of_valid_lines)\n",
    "print(\"Total invalid lines of data: \", no_of_invalid_lines)"
   ]
  },
  {
   "cell_type": "markdown",
   "id": "4c40adeb",
   "metadata": {},
   "source": [
    "# Task 3: Chấm điểm(25 câu trả lời)\n",
    "answer_key = \"B,A,D,D,C,B,D,A,C,C,D,B,A,B,A,C,B,D,A,C,A,A,B,D,D\"\n",
    "1. Cách tính điểm\n",
    "- +4 điểm cho mỗi câu trả lời đúng\n",
    "- 0 điểm cho mỗi câu trả lời bị bỏ qua\n",
    "- -1 điểm cho mỗi câu trả lời sai\n",
    "2. Bạn cũng sẽ muốn tính toán các thống kê sau cho toàn bộ lớp:\n",
    "- Điểm trung bình\n",
    "- Điểm cao nhất (Max)\n",
    "- Điểm thấp nhất (Min)\n",
    "- Miền giá trị của điểm (Max-Min)\n",
    "- Giá trị trung vị (Median)\n"
   ]
  },
  {
   "cell_type": "code",
   "execution_count": 57,
   "id": "d7ae635a",
   "metadata": {},
   "outputs": [
    {
     "name": "stdout",
     "output_type": "stream",
     "text": [
      "Mean (average) score:  78.0\n",
      "Highest score:  100.0\n",
      "Lowest:  66.0\n",
      "Range of scores:  34.0\n",
      "Median score:  76.0\n"
     ]
    }
   ],
   "source": [
    "# init a dictionary including: key is student_id, value is student's score\n",
    "import statistics\n",
    "\n",
    "answer_key = \"B,A,D,D,C,B,D,A,C,C,D,B,A,B,A,C,B,D,A,C,A,A,B,D,D\"\n",
    "ans_key_array = answer_key.rstrip().split(\",\")\n",
    "\n",
    "def mark(student_answers):\n",
    "    score = 0.00\n",
    "    for i in range(len(ans_key_array)):\n",
    "        if student_answers[i] == ans_key_array[i]:\n",
    "            score += 4\n",
    "        elif student_answers[i] != \"\" and student_answers[i] != ans_key_array[i]:\n",
    "            score -= 1\n",
    "    return score\n",
    "\n",
    "student_scores = {}\n",
    "for line in valid_lines:\n",
    "    student_id = (line.rstrip().split(\",\")[0]) # get student's id \n",
    "    student_answers = (line.rstrip().split(\",\")[1:]) # get student answers (excepts the first element)\n",
    "    student_scores[student_id] = mark(student_answers)\n",
    "#print(student_scores)\n",
    "\n",
    "class_scores = student_scores.values()\n",
    "highest_score = max(class_scores)\n",
    "lowest_score = min(class_scores)\n",
    "range_score = highest_score - lowest_score\n",
    "mean = round(statistics.mean(class_scores), 2)\n",
    "median = statistics.median(class_scores)\n",
    "\n",
    "print(\"Mean (average) score: \", mean)\n",
    "print(\"Highest score: \", highest_score)\n",
    "print(\"Lowest: \", lowest_score)\n",
    "print(\"Range of scores: \", range_score)\n",
    "print(\"Median score: \", median)\n"
   ]
  },
  {
   "cell_type": "markdown",
   "id": "cdd2ce30",
   "metadata": {},
   "source": [
    "# Task 4: Xuất ra tệp\n",
    "1. Tên tệp dựa vào tên của input file (“class1_grades.txt”)"
   ]
  },
  {
   "cell_type": "code",
   "execution_count": 58,
   "id": "c106891c",
   "metadata": {},
   "outputs": [],
   "source": [
    "try:\n",
    "    file_name_without_ext = file_name.split(\".\")[0]\n",
    "    ext = file_name.split(\".\")[1]\n",
    "    with open(\"./Data Files/\" + file_name_without_ext + \"grades.\" + ext, \"w\") as file:\n",
    "            file.write(student_id + \",\"  + str(int(student_scores[student_id])) + \"\\n\")\n",
    "except IOError as ex:\n",
    "    print(\"File cannot be found. \", str(ex))"
   ]
  },
  {
   "cell_type": "markdown",
   "id": "62c5bc85",
   "metadata": {},
   "source": [
    "# Task 5: Chỉ sử dụng pandas và numpy khi bạn triển khai task 1 đến task 4."
   ]
  },
  {
   "cell_type": "code",
   "execution_count": null,
   "id": "56c4880d",
   "metadata": {},
   "outputs": [],
   "source": []
  }
 ],
 "metadata": {
  "kernelspec": {
   "display_name": "Python 3",
   "language": "python",
   "name": "python3"
  },
  "language_info": {
   "codemirror_mode": {
    "name": "ipython",
    "version": 3
   },
   "file_extension": ".py",
   "mimetype": "text/x-python",
   "name": "python",
   "nbconvert_exporter": "python",
   "pygments_lexer": "ipython3",
   "version": "3.8.8"
  }
 },
 "nbformat": 4,
 "nbformat_minor": 5
}
